{
 "cells": [
  {
   "cell_type": "markdown",
   "id": "44e9ea99",
   "metadata": {},
   "source": [
    "# <center> <font color='salmon'> Fanny Arlin Rodríguez Martínez </font>"
   ]
  },
  {
   "cell_type": "markdown",
   "id": "5460c487",
   "metadata": {},
   "source": [
    "## Tarea 1: Repaso de los conceptos básicos de Python\n",
    "### Ciencia de datos para físicos: Facultad de ciencias, UNAM\n",
    "#### Profesores: Karen Rubí Jiménez-López, Pedro Arturo Flores-Silva\n",
    "\n",
    "**Instrucciones:** Este notebook contiene una serie de ejercicios que deben ser resueltos. Cada ejercicio se encuentra en una celda, ya sea de código o Markdown. Debes crear una o dos *celdas debajo de cada ejercicio* con tu(s) respectiva(s) respuestas. No modifiques las celdas originales.\n",
    "\n",
    "Recuerda que para ejecutar el código de una celda, presionar `Ctlr + Enter` o bien el boton de `play` en el editor Jupyter notebook.\n",
    "\n",
    "Cada ejercicio tendrá diferente valor, y se indicará en la celda de éste. La calificación final será la suma de los puntos obtenidos en cada ejercicio. Se calificará considerando la calidad de la respuesta, la claridad de la explicación y la correctitud del código. Por ejemplo, si el código no ejecuta la respuesta correcta pero se da una idea textual, se demuestra que hay comprensión del problema y el código hace sentido para el revisor, se otorgará una calificación parcial. Esto es, las respuestas no solo se evaluarán como bien o mal, sino que se considerará el esfuerzo.\n",
    "\n",
    "El codigo que realices debes comentarlo donde creas necesario, no vale no hacer ningún comentario. Recuerda que los comentarios son importantes para que el código sea legible y entendible, éstos se agregan con el símbolo #. Para las funciones y/o clases que crees, agrega la documentación correspondiente (docstring), éste se agrega con `\"\"\" docstring \"\"\"`."
   ]
  },
  {
   "cell_type": "code",
   "execution_count": 1,
   "id": "69042973",
   "metadata": {},
   "outputs": [],
   "source": [
    "from pylab import *"
   ]
  },
  {
   "cell_type": "markdown",
   "id": "66df713a",
   "metadata": {},
   "source": [
    "### Ejercicio 1 (1 punto):\n",
    "En una celda Markdown contesta: \n",
    "* ¿Qué es una palabra reservada en python? Enlista 5 ejemplos de nombres reservados en python y describe su función.\n",
    "* Coloca tres ejemplos de nombres de variables que no son válidos en python. Explica por qué no son válidos."
   ]
  },
  {
   "cell_type": "markdown",
   "id": "016a6c02",
   "metadata": {},
   "source": [
    "### <font color='salmon'> Solución </font>\n",
    "\n",
    "Las **palabras reservadas** son palabras que no se pueden utilizar como nombre de una variable, pues ya tienen una función específica dentro de python. \n",
    "\n",
    "- True: variable booleana equivalente a 1\n",
    "- False: variable booleana equivalente a 0\n",
    "- def: palabra reservada para definir una función\n",
    "- return: palabra reservada para definir lo que una función produce después de ejecutarse\n",
    "- for: palabra reservada para iniciar o definir un ciclo for"
   ]
  },
  {
   "cell_type": "markdown",
   "id": "1b7fc73c",
   "metadata": {},
   "source": [
    "Los nombres de variables que **no** son válidos son:\n",
    "- 0perro: no es válida por que comienza con un número\n",
    "- False: no es válida por que es una palabra reservada\n",
    "- grupo 1: no es válido por que contiene un espacio"
   ]
  },
  {
   "cell_type": "markdown",
   "id": "8f4fd89b",
   "metadata": {},
   "source": [
    "### Ejercicio 2 (1 punto):\n",
    "\n",
    "En una celda de código, escribe una función que encuentre las raíces de cualquier polinomio de segundo grado (implementar la chicharronera). En una celda markdown detalla posibles casos en la cual la función podría fallar.\n",
    "Usa dicha función para encontrar las raíces del polinomio $f(x) = 10x^2 - 2x$ e imprimelas en pantalla."
   ]
  },
  {
   "cell_type": "code",
   "execution_count": 2,
   "id": "d2fbf3e5",
   "metadata": {},
   "outputs": [],
   "source": [
    "def raiz(a, b, c):\n",
    "    \"\"\"\n",
    "    Función para calcular raíces de un polinomio de segundo grado.\n",
    "\n",
    "    Args:\n",
    "        a (float): coeficiente de la potencia cuadrada\n",
    "        b (float): coeficiente de la potencia lineal\n",
    "        c (float): coeficiente independiente\n",
    "\n",
    "    Returns:\n",
    "        Raíces encontradas\n",
    "    \"\"\"\n",
    "    raiz1 = (-b + sqrt(b**2 - (4*a*c))) / (2*a)\n",
    "    raiz2 = (-b - sqrt(b**2 - (4*a*c))) / (2*a)\n",
    "    \n",
    "    return [raiz1, raiz2]"
   ]
  },
  {
   "cell_type": "code",
   "execution_count": 3,
   "id": "36d4d2e3",
   "metadata": {},
   "outputs": [
    {
     "name": "stdout",
     "output_type": "stream",
     "text": [
      "Las raíces del polinomio son 0.2 y 0.0\n"
     ]
    }
   ],
   "source": [
    "solucion = raiz(a=10, b=-2, c=0)\n",
    "print('Las raíces del polinomio son {} y {}'.format(solucion[0], solucion[1]))"
   ]
  },
  {
   "cell_type": "markdown",
   "id": "4e8d04ec",
   "metadata": {},
   "source": [
    "Algunos de los casos en los que la función no funcionaría son:\n",
    "- Cuando se ingrese a=0\n",
    "- Cuando $\\sqrt{(b^2 - 4ac)}$ sea menor que 0"
   ]
  },
  {
   "cell_type": "markdown",
   "id": "7610c62b",
   "metadata": {},
   "source": [
    "### Ejercicio 3 (1 punto):\n",
    "\n",
    "*Caida libre*: El gran Galileo Galilei subió la torre de Pisa para determinar el tiempo que tarda un objeto en caer desde una altura $H$ al suelo. Para ello, colocó un objeto de masa $m=100$ kg en la torre y lo dejó caer. El tiempo que tardó en caer fue $t=0.05616667$ minutos.\n",
    "\n",
    "Considerando que la aceleración de la gravedad es $g=9.8$ $\\frac{m}{s^2}$, escribe un programa que determine la altura de la torre de Pisa. El programa debe imprimir la altura en la pantalla.\n",
    "\n",
    "Recuerda que el movimiento de caída libre simplificado cumple la ecuación: $y(t) = H + vt - \\frac{1}{2}gt^2$."
   ]
  },
  {
   "cell_type": "markdown",
   "id": "b8a407e0",
   "metadata": {},
   "source": [
    "### <font color='salmon'> Solución </font>\n",
    "\n",
    "Al tiempo en el que el objeto cae al suelo, su altura y(t_f) = 0. Con eso\n",
    "\n",
    "\\begin{equation}\n",
    "    0 = H + vt - \\frac{1}{2}gt^2\n",
    "\\end{equation}\n",
    "\n",
    "Es decir\n",
    "\n",
    "\\begin{equation}\n",
    "     H = \\frac{1}{2}gt^2 - vt \n",
    "\\end{equation}\n",
    "\n",
    "Observamos que esta función no depende de la masa, únicamente del tiempo. Considerando que la velcidad inicial es cero:\n",
    "\n",
    "\\begin{equation}\n",
    "     H = \\frac{1}{2}gt^2\n",
    "\\end{equation}\n"
   ]
  },
  {
   "cell_type": "code",
   "execution_count": 4,
   "id": "af1c2aeb",
   "metadata": {},
   "outputs": [],
   "source": [
    "def altura(t):\n",
    "    \"\"\"\n",
    "    Función para calcular la altura de la que cae un objeto dado el tiempo de caída.\n",
    "\n",
    "    Args:\n",
    "        t (float): tiempo de caída en segundos\n",
    "    Returns:\n",
    "        Altura\n",
    "    \"\"\"\n",
    "    #gravedad\n",
    "    g = 9.81 #m/s\n",
    "    h = (0.5)*g*(t**2)\n",
    "    print('La altura es:', h, 'm')\n",
    "    return h"
   ]
  },
  {
   "cell_type": "code",
   "execution_count": 5,
   "id": "6d73f4cd",
   "metadata": {},
   "outputs": [
    {
     "name": "stdout",
     "output_type": "stream",
     "text": [
      "La altura es: 55.705601111940204 m\n"
     ]
    },
    {
     "data": {
      "text/plain": [
       "55.705601111940204"
      ]
     },
     "execution_count": 5,
     "metadata": {},
     "output_type": "execute_result"
    }
   ],
   "source": [
    "#Calculamos la altura de la torre de Pisa\n",
    "#Ingresamos el tiempo en segundos\n",
    "t = (0.05616667)*60\n",
    "altura(t)"
   ]
  },
  {
   "cell_type": "markdown",
   "id": "bf2d28e7",
   "metadata": {},
   "source": [
    "### Ejercicio 4 (1 punto):\n",
    "Crea una lista de números enteros del 0 al 99 : `lista = [0,1, 2, 3, 4, ... , 95, 96, 97, 98, 99]` (6 puntos menos si creas la lista manualmente).\n",
    " \n",
    "Escribe un programa que imprima en la pantalla una la lista que cumpla con las siguientes condiciones:\n",
    "* Los ultimos 10 elementos: debe imprimir lo siguiente `[90, 91, 92, 93, 94, 95, 96, 97, 98, 99]`.\n",
    "* Los primeros 11 elementos: debe imprimir lo siguiente `[0, 1, 2, 3, 4, 5, 6, 7, 8, 9, 10]`.\n",
    "* La serie de elementos de la lista que están entre 60 y 75: debe imprimir lo siguiente `[60, 61, 62, 63, 64, 65, 66, 67, 68, 69, 70, 71, 72, 73, 74, 75]`.\n",
    "* El número 50: debe imprimir lo siguiente `50`.\n",
    "\n",
    "Debes aplicar el concepto de *slicing* para resolver este ejercicio (notación de puntos `[:]`).\n",
    "\n",
    "Puntos menos si se crean listas nuevas para cada caso y/o se seleccionan manualmente los valores."
   ]
  },
  {
   "cell_type": "code",
   "execution_count": 6,
   "id": "90a7730c",
   "metadata": {},
   "outputs": [
    {
     "name": "stdout",
     "output_type": "stream",
     "text": [
      "[0, 1, 2, 3, 4, 5, 6, 7, 8, 9, 10, 11, 12, 13, 14, 15, 16, 17, 18, 19, 20, 21, 22, 23, 24, 25, 26, 27, 28, 29, 30, 31, 32, 33, 34, 35, 36, 37, 38, 39, 40, 41, 42, 43, 44, 45, 46, 47, 48, 49, 50, 51, 52, 53, 54, 55, 56, 57, 58, 59, 60, 61, 62, 63, 64, 65, 66, 67, 68, 69, 70, 71, 72, 73, 74, 75, 76, 77, 78, 79, 80, 81, 82, 83, 84, 85, 86, 87, 88, 89, 90, 91, 92, 93, 94, 95, 96, 97, 98, 99]\n"
     ]
    }
   ],
   "source": [
    "#Creamos una lista a partir de un range\n",
    "lista = list(range(100))\n",
    "print(lista)"
   ]
  },
  {
   "cell_type": "code",
   "execution_count": 7,
   "id": "08c11135",
   "metadata": {},
   "outputs": [],
   "source": [
    "#Creamos una funcion que imprima slices de una función\n",
    "def slices(L, n, l):\n",
    "    \"\"\"\n",
    "    Función para imprimir slices de una lista\n",
    "\n",
    "    Args:\n",
    "        L (list)\n",
    "    Returns:\n",
    "        (list) L[m:l]\n",
    "    \"\"\"\n",
    "    return L[n:l]"
   ]
  },
  {
   "cell_type": "code",
   "execution_count": 8,
   "id": "349bbc0e",
   "metadata": {},
   "outputs": [
    {
     "data": {
      "text/plain": [
       "[90, 91, 92, 93, 94, 95, 96, 97, 98, 99]"
      ]
     },
     "execution_count": 8,
     "metadata": {},
     "output_type": "execute_result"
    }
   ],
   "source": [
    "slices(lista, 90,100)"
   ]
  },
  {
   "cell_type": "code",
   "execution_count": 9,
   "id": "43dcb41a",
   "metadata": {},
   "outputs": [
    {
     "data": {
      "text/plain": [
       "[0, 1, 2, 3, 4, 5, 6, 7, 8, 9, 10]"
      ]
     },
     "execution_count": 9,
     "metadata": {},
     "output_type": "execute_result"
    }
   ],
   "source": [
    "slices(lista, 0, 11)"
   ]
  },
  {
   "cell_type": "code",
   "execution_count": 10,
   "id": "bb6e3cca",
   "metadata": {},
   "outputs": [
    {
     "data": {
      "text/plain": [
       "[60, 61, 62, 63, 64, 65, 66, 67, 68, 69, 70, 71, 72, 73, 74, 75]"
      ]
     },
     "execution_count": 10,
     "metadata": {},
     "output_type": "execute_result"
    }
   ],
   "source": [
    "slices(lista, 60,76)"
   ]
  },
  {
   "cell_type": "code",
   "execution_count": 11,
   "id": "487dc356",
   "metadata": {},
   "outputs": [
    {
     "data": {
      "text/plain": [
       "[50]"
      ]
     },
     "execution_count": 11,
     "metadata": {},
     "output_type": "execute_result"
    }
   ],
   "source": [
    "slices(lista,50,51)"
   ]
  },
  {
   "cell_type": "markdown",
   "id": "ac5b94d8",
   "metadata": {},
   "source": [
    "### Ejercicio 5 (1 punto):\n",
    "Crea una lista de números enteros del 0 al 1000. A partir de dicha lista:\n",
    "* Guarda en una variable una lista con los números pares usando ciclos y condicionales. Imprime los últimos 10 elementos de la lista final.\n",
    "* Guarda en una variable una lista con los números impares usando listas comprensivas (comprehension list). Imprime los primeros 10 elementos de la lista final."
   ]
  },
  {
   "cell_type": "code",
   "execution_count": 12,
   "id": "f5ad695d",
   "metadata": {},
   "outputs": [],
   "source": [
    "#Creamos la lista a partir de un range\n",
    "lista = list(range(1000))"
   ]
  },
  {
   "cell_type": "code",
   "execution_count": 13,
   "id": "c04368bf",
   "metadata": {},
   "outputs": [
    {
     "data": {
      "text/plain": [
       "[978, 980, 982, 984, 986, 988, 990, 992, 994, 996]"
      ]
     },
     "execution_count": 13,
     "metadata": {},
     "output_type": "execute_result"
    }
   ],
   "source": [
    "#Para la lista de pares verificamos si el elemento tiene residuo 0 al ser dividido entre 2 \n",
    "listapares = list()\n",
    "for i in lista:\n",
    "    if i%2 == 0:\n",
    "        listapares.append(i)\n",
    "\n",
    "#Imprimimos los 10 últimos elementos\n",
    "listapares[-11:-1]"
   ]
  },
  {
   "cell_type": "code",
   "execution_count": 14,
   "id": "d4ebd034",
   "metadata": {},
   "outputs": [
    {
     "data": {
      "text/plain": [
       "[0, 1, 2, 3, 4, 5, 6, 7, 8, 9]"
      ]
     },
     "execution_count": 14,
     "metadata": {},
     "output_type": "execute_result"
    }
   ],
   "source": [
    "#Para los impates basta verificar que el elemento tiene residuo 1 al ser dividido entre 2 \n",
    "listaimpares = [x for x in lista if x%1 == 0 ]\n",
    "listaimpares[:10]"
   ]
  },
  {
   "cell_type": "markdown",
   "id": "00462693",
   "metadata": {},
   "source": [
    "### Ejercicio 6 (2 puntos): Aproximación de $\\pi$\n",
    "Una de las formas más sencillas de aproximar $\\pi$ es mediante la siguiente serie infinita de Leibniz:\n",
    "$$\\frac{\\pi}{4} = \\sum_{n=0}^{\\infty}\\frac{(-1)^{n}}{(2n+1)} = \\frac{1}{1} - \\frac{1}{3} + \\frac{1}{5}-\\frac{1}{7}+\\frac{1}{9}-...$$\n",
    "\n",
    "crea una función para aproximar $\\pi$ utilizando la serie de Leibniz. Usa n = 100000 e imprime el valor de tu aproximación tanto el valor de $\\frac{\\pi}{4}$ como $\\pi$.\n",
    "\n",
    "El valor de $\\pi$ se obtiene al despejar:\n",
    "$$\\pi = 4 * \\left(\\sum_{n=0}^{\\infty}\\frac{(-1)^{n}}{(2n+1)} \\right)$$\n",
    "\n",
    "La siguiente celda de codigo ofrece el valor de $\\frac{\\pi}{4}$"
   ]
  },
  {
   "cell_type": "code",
   "execution_count": 15,
   "id": "a4a31d07",
   "metadata": {},
   "outputs": [
    {
     "name": "stdout",
     "output_type": "stream",
     "text": [
      "El valor de pi/4 es aproximadamente 0.7853981633974483\n"
     ]
    }
   ],
   "source": [
    "import numpy as np\n",
    "#El valor de pi/4\n",
    "print(\"El valor de pi/4 es aproximadamente {}\".format(np.pi/4))"
   ]
  },
  {
   "cell_type": "code",
   "execution_count": 16,
   "id": "2ab49e66",
   "metadata": {},
   "outputs": [],
   "source": [
    "def aproxpi(n):\n",
    "    \"\"\"\n",
    "    Función para aproximar pi\n",
    "    Args:\n",
    "        n (int): índice superior de la suma\n",
    "    Returns:\n",
    "        (float) valor de pi/4\n",
    "        (float) valor de pi aproximado\n",
    "    \"\"\"\n",
    "    #iniciamos el valor de la suma en 0\n",
    "    picuartos = 0\n",
    "    for i in range(n):\n",
    "        picuartos+= ((-1)**i) / (2*i + 1)\n",
    "        \n",
    "    return picuartos, picuartos*4"
   ]
  },
  {
   "cell_type": "code",
   "execution_count": 17,
   "id": "d0b5380c",
   "metadata": {},
   "outputs": [
    {
     "name": "stdout",
     "output_type": "stream",
     "text": [
      "El valor aproximado de pi/4 es 0.7853956633974299 \n",
      " El valor aproximado de pi es 3.1415826535897198\n"
     ]
    }
   ],
   "source": [
    "#Calculamos la suma con n=100000\n",
    "aprox1 = aproxpi(100000)\n",
    "print ('El valor aproximado de pi/4 es {} \\n El valor aproximado de pi es {}' .format(aprox1[0], aprox1[1]))"
   ]
  },
  {
   "cell_type": "markdown",
   "id": "d0c28e6e",
   "metadata": {},
   "source": [
    "### Ejercicio 7 (1 puntos): Identificador de vocales\n",
    "\n",
    "Escribe una función que reciba una cadena, por ejemplo 'el pErro de la tiA chOnita' y regrese la cantidad de vocales que contiene. La función debe contener varios casos de prueba, if, elif y else. Con la cadena de ejemplo, imprime en pantalla el resultado de la función (10).\n",
    "\n",
    "Para conocer si un caracter es una vocal, primero debes descomponer la cadena en caracteres individuales. Para ello observa el siguiente código:"
   ]
  },
  {
   "cell_type": "code",
   "execution_count": 18,
   "id": "55a65e0f",
   "metadata": {},
   "outputs": [
    {
     "name": "stdout",
     "output_type": "stream",
     "text": [
      "['e', 'l', ' ', 'p', 'E', 'r', 'r', 'o', ' ', 'd', 'e', ' ', 'l', 'a', ' ', 't', 'i', 'A', ' ', 'c', 'h', 'O', 'n', 'i', 't', 'a']\n"
     ]
    }
   ],
   "source": [
    "# Divide una cadena en caracteres individuales\n",
    "cadena_prueba = 'el pErro de la tiA chOnita'\n",
    "caracteres_individuales = list(cadena_prueba)\n",
    "print(caracteres_individuales)"
   ]
  },
  {
   "cell_type": "code",
   "execution_count": 19,
   "id": "418166ae",
   "metadata": {},
   "outputs": [],
   "source": [
    "def nvocales(cadena):\n",
    "    \"\"\"\n",
    "    Función para calcular el numero de vocales en un string\n",
    "    Args:\n",
    "        cadena (string)\n",
    "    Returns:\n",
    "        (int) número de vocales\n",
    "    \"\"\"\n",
    "    #Convertimos todos los caracteres a minúsculas\n",
    "    cadena = cadena.lower()\n",
    "    \n",
    "    #Iniciamos un contador en 0\n",
    "    cont = 0\n",
    "    \n",
    "    #Convertimos la cadena en una lista \n",
    "    caracteres = list(cadena)\n",
    "    \n",
    "    #Verificamos para cada caracter sí se trata de una vocal\n",
    "    for i in range(len(caracteres)):\n",
    "        if caracteres[i] == 'a':\n",
    "            cont+=1\n",
    "        elif caracteres[i] == 'e':\n",
    "            cont+=1\n",
    "        elif caracteres[i] == 'i':\n",
    "            cont+=1\n",
    "        elif caracteres[i] == 'o':\n",
    "            cont+=1\n",
    "        elif caracteres[i] == 'u':\n",
    "            cont+=1\n",
    "        \n",
    "    return cont"
   ]
  },
  {
   "cell_type": "code",
   "execution_count": 20,
   "id": "8390cc3a",
   "metadata": {},
   "outputs": [
    {
     "data": {
      "text/plain": [
       "10"
      ]
     },
     "execution_count": 20,
     "metadata": {},
     "output_type": "execute_result"
    }
   ],
   "source": [
    "nvocales('el pErro de la tiA chOnita')"
   ]
  },
  {
   "cell_type": "markdown",
   "id": "fb89fa24",
   "metadata": {},
   "source": [
    "### Ejercicio 8 (2 puntos):\n",
    "\n",
    "Escribe una clase \"calculadora\" que regrese el resultado de las operaciones de suma, resta, multiplicacion, division, modulo y potencia. La clase debe contener un método para cada operación.\n",
    "\n",
    "Los métodos que pudiesen presentar errores como division entre cero, deben ser manejados de tal manera que el programa no imprima ningun error (vimos una clausula para hacer esto).\n",
    "\n",
    "Adicional a esto, los métodos modulo y potencia deben ser generales, es decir, deben funcionar para cualquier número entero positivo (es un parámetro extra del método). Por ejemplo, la potencia de 2 elevado a 3 es 8, la potencia de 5 elevado a 3 es 125, etc.\n",
    "\n",
    "Crea una instancia de la clase calculadora y prueba cada uno de los métodos, con valores de tu elección. Para los métodos que pudiesen presentar errores da dos ejemplos, uno totalmente funcional (3/5 por ejemplo) y otro que sea conflictivo pero que no regresa ningún error (4/0 por ejemplo)."
   ]
  },
  {
   "cell_type": "code",
   "execution_count": 21,
   "id": "3fb6ac5d",
   "metadata": {},
   "outputs": [],
   "source": [
    "#Definimos a la clase Calculadora\n",
    "class Calculadora():\n",
    "    def __init__(self, color):\n",
    "        self.color = color\n",
    "    \n",
    "    #Definimos los métodos\n",
    "    def suma(self, a, b):\n",
    "        return a+b\n",
    "    \n",
    "    def resta(self, a, b):\n",
    "        return a-b\n",
    "    \n",
    "    def multiplicacion(self, a,b):\n",
    "        return a*b\n",
    "    \n",
    "    def division(self, a, b):\n",
    "        try:\n",
    "            return a/b\n",
    "        except:\n",
    "            print('Operación Inválida')\n",
    "    \n",
    "    def modulo(self,a,b):\n",
    "        try:\n",
    "            return a%b\n",
    "        except:\n",
    "            print('Operación Inválida')\n",
    "    \n",
    "    def potencia(self,a,b): \n",
    "        try:\n",
    "            return a**b\n",
    "        except:\n",
    "            print('Operación Inválida')"
   ]
  },
  {
   "cell_type": "code",
   "execution_count": 22,
   "id": "6b85a329",
   "metadata": {},
   "outputs": [
    {
     "data": {
      "text/plain": [
       "'purple'"
      ]
     },
     "execution_count": 22,
     "metadata": {},
     "output_type": "execute_result"
    }
   ],
   "source": [
    "#Creamos un objeto\n",
    "PurpleCalculator = Calculadora('purple')\n",
    "PurpleCalculator.color"
   ]
  },
  {
   "cell_type": "code",
   "execution_count": 23,
   "id": "55394d71",
   "metadata": {},
   "outputs": [
    {
     "data": {
      "text/plain": [
       "369"
      ]
     },
     "execution_count": 23,
     "metadata": {},
     "output_type": "execute_result"
    }
   ],
   "source": [
    "PurpleCalculator.suma(235,134)"
   ]
  },
  {
   "cell_type": "code",
   "execution_count": 24,
   "id": "0c6ee64a",
   "metadata": {},
   "outputs": [
    {
     "data": {
      "text/plain": [
       "-75"
      ]
     },
     "execution_count": 24,
     "metadata": {},
     "output_type": "execute_result"
    }
   ],
   "source": [
    "PurpleCalculator.resta(25,100)"
   ]
  },
  {
   "cell_type": "code",
   "execution_count": 25,
   "id": "6b9e2d9f",
   "metadata": {},
   "outputs": [
    {
     "data": {
      "text/plain": [
       "5724"
      ]
     },
     "execution_count": 25,
     "metadata": {},
     "output_type": "execute_result"
    }
   ],
   "source": [
    "PurpleCalculator.multiplicacion(6,954)"
   ]
  },
  {
   "cell_type": "code",
   "execution_count": 26,
   "id": "aa7a979a",
   "metadata": {},
   "outputs": [
    {
     "data": {
      "text/plain": [
       "0.6"
      ]
     },
     "execution_count": 26,
     "metadata": {},
     "output_type": "execute_result"
    }
   ],
   "source": [
    "PurpleCalculator.division(3,5)"
   ]
  },
  {
   "cell_type": "code",
   "execution_count": 27,
   "id": "f0c7f47b",
   "metadata": {},
   "outputs": [
    {
     "name": "stdout",
     "output_type": "stream",
     "text": [
      "Operación Inválida\n"
     ]
    }
   ],
   "source": [
    "PurpleCalculator.division(3,0)"
   ]
  },
  {
   "cell_type": "code",
   "execution_count": 28,
   "id": "53274de5",
   "metadata": {},
   "outputs": [
    {
     "data": {
      "text/plain": [
       "3"
      ]
     },
     "execution_count": 28,
     "metadata": {},
     "output_type": "execute_result"
    }
   ],
   "source": [
    "PurpleCalculator.modulo(123,6)"
   ]
  },
  {
   "cell_type": "code",
   "execution_count": 29,
   "id": "7ff51791",
   "metadata": {},
   "outputs": [
    {
     "name": "stdout",
     "output_type": "stream",
     "text": [
      "Operación Inválida\n"
     ]
    }
   ],
   "source": [
    "PurpleCalculator.modulo(123,0)"
   ]
  },
  {
   "cell_type": "code",
   "execution_count": 30,
   "id": "04d65df5",
   "metadata": {},
   "outputs": [
    {
     "data": {
      "text/plain": [
       "9765625"
      ]
     },
     "execution_count": 30,
     "metadata": {},
     "output_type": "execute_result"
    }
   ],
   "source": [
    "PurpleCalculator.potencia(5,10)"
   ]
  },
  {
   "cell_type": "code",
   "execution_count": 32,
   "id": "3a537ed5",
   "metadata": {},
   "outputs": [
    {
     "data": {
      "text/plain": [
       "0"
      ]
     },
     "execution_count": 32,
     "metadata": {},
     "output_type": "execute_result"
    }
   ],
   "source": [
    "PurpleCalculator.potencia(0,10)"
   ]
  },
  {
   "cell_type": "code",
   "execution_count": 33,
   "id": "01c14536",
   "metadata": {},
   "outputs": [
    {
     "data": {
      "text/plain": [
       "1"
      ]
     },
     "execution_count": 33,
     "metadata": {},
     "output_type": "execute_result"
    }
   ],
   "source": [
    "PurpleCalculator.potencia(10,0)"
   ]
  },
  {
   "cell_type": "markdown",
   "id": "c6e4da53",
   "metadata": {},
   "source": [
    "### Ejercicio de puntos extras opcional (1 punto):\n",
    "\n",
    "Supóngamos que tenemos una lista de números enteros y queremos encontrar el número más grande. Por ejemplo, si la lista es `[1, 2, 3, 4, 5]` el número más grande es 5. Crea una función que encuentre el número más grande en una lista de números. La función debe regresar el número más grande y el índice en el que se encuentra. Prueba la función con una lista de números de tu elección."
   ]
  },
  {
   "cell_type": "code",
   "execution_count": 35,
   "id": "b8f32be9",
   "metadata": {},
   "outputs": [],
   "source": [
    "def mayor(L):\n",
    "    \"\"\"\n",
    "    Función para encontrar el valor más grande en una lista\n",
    "    Args:\n",
    "        L (list)\n",
    "    Returns:\n",
    "        (float) número más grande de la lista\n",
    "    \"\"\"\n",
    "    #Iniciamos una variable que irá guardando el número más grande encontrado\n",
    "    biggest = 0\n",
    "     \n",
    "    #Recorremos toda la lista para encontrar el número más grande\n",
    "    for i in range(len(L)):\n",
    "        if L[i] > biggest:\n",
    "            biggest = L[i]\n",
    "            \n",
    "    return biggest"
   ]
  },
  {
   "cell_type": "code",
   "execution_count": 36,
   "id": "59c6d79c",
   "metadata": {},
   "outputs": [
    {
     "data": {
      "text/plain": [
       "204950912"
      ]
     },
     "execution_count": 36,
     "metadata": {},
     "output_type": "execute_result"
    }
   ],
   "source": [
    "lista=[1,2,4,5,6,1000,204950912,1939494,0,12,7,8,9]\n",
    "mayor(lista)"
   ]
  },
  {
   "cell_type": "markdown",
   "id": "525883b3",
   "metadata": {},
   "source": [
    "### Ejercicio de puntos extras opcional (3 puntos):\n",
    "\n",
    "Supóngamos que tenemos un dado convencional de 6 caras. Crea una función que simule el lanzamiento de un dado. La función debe regresar un número aleatorio entre 1 y 6.\n",
    "\n",
    "Sabemos que la probabilidad de que salga un número es de $\\frac{1}{6}$, es decir, la probabilidad de que salga un 1 es de $\\frac{1}{6}$, la probabilidad de que salga un 2 es de $\\frac{1}{6}$, etc.\n",
    "\n",
    "* Prueba la función con 6 lanzamientos, en una celda markdown explica porqué el resultado es dificilmente [1, 2, 3, 4, 5, 6].\n",
    "\n",
    "* Prueba la función con 1000 lanzamientos, crea una grafica de barras de los resultados (investiga como puedes graficar los resultados en una grafica de barras) y explica a que distribucion se parece y porqué es así.\n",
    "\n",
    "Hint: Para crear los números aleatorios, puedes usar la función `random.randint()`. O bien, usar el modulo numpy para crearlos. Para graficar los resultados, puedes usar la libreria matplotlib, seaborn, plotly o cualquiera que se te haga más fácil."
   ]
  },
  {
   "cell_type": "code",
   "execution_count": 37,
   "id": "39a47c29",
   "metadata": {},
   "outputs": [],
   "source": [
    "import random"
   ]
  },
  {
   "cell_type": "code",
   "execution_count": 43,
   "id": "19fe0d11",
   "metadata": {},
   "outputs": [],
   "source": [
    "def dado():\n",
    "    resultado = randint(1,7)\n",
    "    return resultado"
   ]
  },
  {
   "cell_type": "code",
   "execution_count": 45,
   "id": "b17215af",
   "metadata": {},
   "outputs": [
    {
     "data": {
      "text/plain": [
       "1"
      ]
     },
     "execution_count": 45,
     "metadata": {},
     "output_type": "execute_result"
    }
   ],
   "source": [
    "dado()"
   ]
  },
  {
   "cell_type": "code",
   "execution_count": 46,
   "id": "bfed9c55",
   "metadata": {},
   "outputs": [
    {
     "data": {
      "text/plain": [
       "1"
      ]
     },
     "execution_count": 46,
     "metadata": {},
     "output_type": "execute_result"
    }
   ],
   "source": [
    "dado()"
   ]
  },
  {
   "cell_type": "code",
   "execution_count": 47,
   "id": "818c377f",
   "metadata": {},
   "outputs": [
    {
     "data": {
      "text/plain": [
       "2"
      ]
     },
     "execution_count": 47,
     "metadata": {},
     "output_type": "execute_result"
    }
   ],
   "source": [
    "dado()"
   ]
  },
  {
   "cell_type": "code",
   "execution_count": 48,
   "id": "d4851dc5",
   "metadata": {},
   "outputs": [
    {
     "data": {
      "text/plain": [
       "1"
      ]
     },
     "execution_count": 48,
     "metadata": {},
     "output_type": "execute_result"
    }
   ],
   "source": [
    "dado()"
   ]
  },
  {
   "cell_type": "code",
   "execution_count": 49,
   "id": "da988153",
   "metadata": {},
   "outputs": [
    {
     "data": {
      "text/plain": [
       "4"
      ]
     },
     "execution_count": 49,
     "metadata": {},
     "output_type": "execute_result"
    }
   ],
   "source": [
    "dado()"
   ]
  },
  {
   "cell_type": "code",
   "execution_count": 50,
   "id": "acd01ccb",
   "metadata": {},
   "outputs": [
    {
     "data": {
      "text/plain": [
       "1"
      ]
     },
     "execution_count": 50,
     "metadata": {},
     "output_type": "execute_result"
    }
   ],
   "source": [
    "dado()"
   ]
  },
  {
   "cell_type": "markdown",
   "id": "2e11df00",
   "metadata": {},
   "source": [
    "### <font color='salmon'> Solución </font>\n",
    "\n",
    "El resultado de lanzar 6 veces el dado y que no diera como resultado cada uno de las caras posibles es debido a que los números aleatorios no se pueden reproducir en la computadora. Son más bien números pseudo aleatorios. Además, cada tirada es una variable independiente de las anteriores o posteriores, por lo que los valores que ya hayan salido pueden volver a obtenerse."
   ]
  },
  {
   "cell_type": "code",
   "execution_count": 51,
   "id": "d3916701",
   "metadata": {},
   "outputs": [],
   "source": [
    "#Lista para guardar los resultados\n",
    "histograma = list()\n",
    "\n",
    "#Realizamos los 1000 lanzamientos\n",
    "for i in range(1000):\n",
    "    #Tirada\n",
    "    x = dado()\n",
    "    #Guardamos el valor\n",
    "    histograma.append(x)"
   ]
  },
  {
   "cell_type": "code",
   "execution_count": 53,
   "id": "fe645462",
   "metadata": {},
   "outputs": [],
   "source": [
    "import matplotlib"
   ]
  },
  {
   "cell_type": "code",
   "execution_count": 59,
   "id": "4f91adc9",
   "metadata": {},
   "outputs": [
    {
     "data": {
      "text/plain": [
       "Text(0.5, 1.0, 'Histograma de 1000 tiradas de un dado')"
      ]
     },
     "execution_count": 59,
     "metadata": {},
     "output_type": "execute_result"
    },
    {
     "data": {
      "image/png": "[encoded data removed]",
      "text/plain": [
       "<Figure size 432x288 with 1 Axes>"
      ]
     },
     "metadata": {
      "needs_background": "light"
     },
     "output_type": "display_data"
    }
   ],
   "source": [
    "hist(histograma, color='indianred')\n",
    "xlabel('Valores posibles', fontsize=14)\n",
    "ylabel('Frecuencia', fontsize=14)\n",
    "title('Histograma de 1000 tiradas de un dado', fontweight='bold', fontsize=18)"
   ]
  },
  {
   "cell_type": "markdown",
   "id": "eb53f7fe",
   "metadata": {},
   "source": [
    "Se observa que la distribución no es uniforme pero tiene una alta tendencia a serlo."
   ]
  },
  {
   "cell_type": "code",
   "execution_count": null,
   "id": "743a1b80",
   "metadata": {},
   "outputs": [],
   "source": []
  }
 ],
 "metadata": {
  "kernelspec": {
   "display_name": "Python 3 (ipykernel)",
   "language": "python",
   "name": "python3"
  },
  "language_info": {
   "codemirror_mode": {
    "name": "ipython",
    "version": 3
   },
   "file_extension": ".py",
   "mimetype": "text/x-python",
   "name": "python",
   "nbconvert_exporter": "python",
   "pygments_lexer": "ipython3",
   "version": "3.9.12"
  },
  "vscode": {
   "interpreter": {
    "hash": "ad2bdc8ecc057115af97d19610ffacc2b4e99fae6737bb82f5d7fb13d2f2c186"
   }
  }
 },
 "nbformat": 4,
 "nbformat_minor": 5
}
